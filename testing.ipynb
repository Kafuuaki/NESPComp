{
 "cells": [
  {
   "cell_type": "markdown",
   "id": "374843b9",
   "metadata": {
    "papermill": {
     "duration": 0.002223,
     "end_time": "2022-12-22T07:43:05.898934",
     "exception": false,
     "start_time": "2022-12-22T07:43:05.896711",
     "status": "completed"
    },
    "tags": []
   },
   "source": [
    "test"
   ]
  }
 ],
 "metadata": {
  "kernelspec": {
   "display_name": "Python 3",
   "language": "python",
   "name": "python3"
  },
  "language_info": {
   "codemirror_mode": {
    "name": "ipython",
    "version": 3
   },
   "file_extension": ".py",
   "mimetype": "text/x-python",
   "name": "python",
   "nbconvert_exporter": "python",
   "pygments_lexer": "ipython3",
   "version": "3.7.12"
  },
  "papermill": {
   "default_parameters": {},
   "duration": 8.74594,
   "end_time": "2022-12-22T07:43:06.522963",
   "environment_variables": {},
   "exception": null,
   "input_path": "__notebook__.ipynb",
   "output_path": "__notebook__.ipynb",
   "parameters": {},
   "start_time": "2022-12-22T07:42:57.777023",
   "version": "2.3.4"
  }
 },
 "nbformat": 4,
 "nbformat_minor": 5
}
